{
 "cells": [
  {
   "cell_type": "code",
   "execution_count": 6,
   "id": "2781e18a",
   "metadata": {},
   "outputs": [],
   "source": [
    "# import os\n",
    "\n",
    "# # Define the desired directory path\n",
    "# desired_directory = r\"C:\\Users\\jimrb\\OneDrive\\Documents\\Python Scripts\\Python for Data Science\"\n",
    "\n",
    "# # Get the current directory\n",
    "# current_directory = os.getcwd()\n",
    "\n",
    "# # Check if the current directory is different from the desired one\n",
    "# if current_directory != desired_directory:\n",
    "#     try:\n",
    "#         # Change to the desired directory\n",
    "#         os.chdir(desired_directory)\n",
    "#         print(f\"Changed directory to: {desired_directory}\")\n",
    "#     except changingerror as e:\n",
    "#         print(f\"Error changing directory: {e}\")\n",
    "# else:\n",
    "#     print(f\"Already in the desired directory: {desired_directory}\")"
   ]
  },
  {
   "cell_type": "code",
   "execution_count": 7,
   "id": "5868872b",
   "metadata": {},
   "outputs": [
    {
     "name": "stdout",
     "output_type": "stream",
     "text": [
      "C:\\Users\\jimrb\\OneDrive\\Documents\\MyProjects\\mypython github\n"
     ]
    }
   ],
   "source": [
    "import os\n",
    "print(os.getcwd())"
   ]
  },
  {
   "cell_type": "code",
   "execution_count": 8,
   "id": "ccde7d0a",
   "metadata": {},
   "outputs": [],
   "source": [
    "#Provides ways to work with large multidimensional arrays\n",
    "import numpy as np\n",
    "#Allows for further data manipulation and analysis\n",
    "import pandas as pd\n",
    "import matplotlib.pyplot as plt #plotting\n",
    "import matplotlib.dates as mdates ## Styling dates\n",
    "%matplotlib inline\n",
    "\n",
    "import warnings\n",
    "warnings.simplefilter(\"ignore\")"
   ]
  },
  {
   "cell_type": "markdown",
   "id": "c8116eab",
   "metadata": {},
   "source": [
    "# Numpy"
   ]
  },
  {
   "cell_type": "code",
   "execution_count": 9,
   "id": "643fec3a",
   "metadata": {},
   "outputs": [
    {
     "data": {
      "text/plain": [
       "array([1, 2, 3, 4, 5])"
      ]
     },
     "execution_count": 9,
     "metadata": {},
     "output_type": "execute_result"
    }
   ],
   "source": [
    "#create numpy array\n",
    "ll = [1,2,3,4,5]\n",
    "npa1 = np.array(ll)\n",
    "npa1"
   ]
  },
  {
   "cell_type": "code",
   "execution_count": 10,
   "id": "343bf42c",
   "metadata": {},
   "outputs": [
    {
     "data": {
      "text/plain": [
       "array([0, 1, 2, 3, 4, 5])"
      ]
     },
     "execution_count": 10,
     "metadata": {},
     "output_type": "execute_result"
    }
   ],
   "source": [
    "#create array from 0-4\n",
    "npa2 = np.arange(0,6)\n",
    "npa2"
   ]
  },
  {
   "cell_type": "code",
   "execution_count": 11,
   "id": "ae9993f2",
   "metadata": {},
   "outputs": [
    {
     "data": {
      "text/plain": [
       "array([ 0,  2,  4,  6,  8, 10])"
      ]
     },
     "execution_count": 11,
     "metadata": {},
     "output_type": "execute_result"
    }
   ],
   "source": [
    "#define a step\n",
    "npa3 = np.arange(0,11,2)\n",
    "npa3"
   ]
  },
  {
   "cell_type": "markdown",
   "id": "40eab6b2",
   "metadata": {},
   "source": [
    "# Matrices"
   ]
  },
  {
   "cell_type": "code",
   "execution_count": 12,
   "id": "a028dd2a",
   "metadata": {},
   "outputs": [
    {
     "data": {
      "text/plain": [
       "array([[1., 1., 1.],\n",
       "       [1., 1., 1.],\n",
       "       [1., 1., 1.],\n",
       "       [1., 1., 1.]])"
      ]
     },
     "execution_count": 12,
     "metadata": {},
     "output_type": "execute_result"
    }
   ],
   "source": [
    "#create a 4 matrix with 3 columns with all having a value of 1\n",
    "mat1 = np.ones((4,3))\n",
    "mat1"
   ]
  },
  {
   "cell_type": "code",
   "execution_count": 13,
   "id": "5c94bae2",
   "metadata": {},
   "outputs": [
    {
     "data": {
      "text/plain": [
       "array([[0., 0., 0.],\n",
       "       [0., 0., 0.],\n",
       "       [0., 0., 0.],\n",
       "       [0., 0., 0.]])"
      ]
     },
     "execution_count": 13,
     "metadata": {},
     "output_type": "execute_result"
    }
   ],
   "source": [
    "#create a 4 row matrix with 3 columns with all having a value of 0\n",
    "mat2 = np.zeros((4,3))\n",
    "mat2"
   ]
  },
  {
   "cell_type": "markdown",
   "id": "767b2fc6",
   "metadata": {},
   "source": [
    "# Random Matrices"
   ]
  },
  {
   "cell_type": "code",
   "execution_count": 14,
   "id": "d1950d6b",
   "metadata": {},
   "outputs": [
    {
     "data": {
      "text/plain": [
       "array([[16, 20, 47],\n",
       "       [42, 23, 44],\n",
       "       [ 4, 14, 12],\n",
       "       [49, 26, 27]])"
      ]
     },
     "execution_count": 14,
     "metadata": {},
     "output_type": "execute_result"
    }
   ],
   "source": [
    "# Random values between 0 and 50 as a matrix with 4r and 3c\n",
    "mat3 = np.random.randint(0,50,(4,3))\n",
    "mat3"
   ]
  },
  {
   "cell_type": "code",
   "execution_count": 15,
   "id": "f60fe84a",
   "metadata": {},
   "outputs": [
    {
     "data": {
      "text/plain": [
       "array([ 1.,  2.,  3.,  4.,  5.,  6.,  7.,  8.,  9., 10.])"
      ]
     },
     "execution_count": 15,
     "metadata": {},
     "output_type": "execute_result"
    }
   ],
   "source": [
    "#Generate 10 equally distanced values between 1 and 10\n",
    "mat4 = np.linspace(1,10,10)\n",
    "mat4"
   ]
  },
  {
   "cell_type": "markdown",
   "id": "88544332",
   "metadata": {},
   "source": [
    "# Reshape Arrays"
   ]
  },
  {
   "cell_type": "code",
   "execution_count": 16,
   "id": "e41e36f2",
   "metadata": {},
   "outputs": [
    {
     "data": {
      "text/plain": [
       "array([40, 11, 39,  2, 35, 33, 39, 29, 19, 42, 14, 44])"
      ]
     },
     "execution_count": 16,
     "metadata": {},
     "output_type": "execute_result"
    }
   ],
   "source": [
    "# Create array with 12 values\n",
    "mat6 = np.random.randint(0,50,12)\n",
    "mat6"
   ]
  },
  {
   "cell_type": "code",
   "execution_count": 17,
   "id": "dc9c9cb8",
   "metadata": {},
   "outputs": [
    {
     "data": {
      "text/plain": [
       "array([[40, 11, 39,  2],\n",
       "       [35, 33, 39, 29],\n",
       "       [19, 42, 14, 44]])"
      ]
     },
     "execution_count": 17,
     "metadata": {},
     "output_type": "execute_result"
    }
   ],
   "source": [
    "# Reshape to a 3 row 4 column array\n",
    "mat6 = mat6.reshape(3,4)\n",
    "mat6"
   ]
  },
  {
   "cell_type": "code",
   "execution_count": 18,
   "id": "d73d8140",
   "metadata": {},
   "outputs": [
    {
     "data": {
      "text/plain": [
       "array([[[40, 11],\n",
       "        [39,  2]],\n",
       "\n",
       "       [[35, 33],\n",
       "        [39, 29]],\n",
       "\n",
       "       [[19, 42],\n",
       "        [14, 44]]])"
      ]
     },
     "execution_count": 18,
     "metadata": {},
     "output_type": "execute_result"
    }
   ],
   "source": [
    "# Reshape into a 3D array with 3 blocks, 2 rows, 2 columns\n",
    "mat7 = mat6.reshape(3,2,2)\n",
    "mat7"
   ]
  },
  {
   "cell_type": "code",
   "execution_count": 19,
   "id": "2945569a",
   "metadata": {},
   "outputs": [
    {
     "data": {
      "text/plain": [
       "array([[[40, 11],\n",
       "        [39,  2],\n",
       "        [35, 33]],\n",
       "\n",
       "       [[39, 29],\n",
       "        [19, 42],\n",
       "        [14, 44]]])"
      ]
     },
     "execution_count": 19,
     "metadata": {},
     "output_type": "execute_result"
    }
   ],
   "source": [
    "# Reshape into a 3D array with 2 blocks, 3 rows, 2 columns\n",
    "mat8 = mat6.reshape(2,3,2)\n",
    "mat8"
   ]
  },
  {
   "cell_type": "code",
   "execution_count": 20,
   "id": "26766945",
   "metadata": {},
   "outputs": [
    {
     "data": {
      "text/plain": [
       "40"
      ]
     },
     "execution_count": 20,
     "metadata": {},
     "output_type": "execute_result"
    }
   ],
   "source": [
    "# Get the value in the 2nd block, 3rd row and 1st column\n",
    "mat8[0,0,0]"
   ]
  },
  {
   "cell_type": "markdown",
   "id": "13f12351",
   "metadata": {},
   "source": [
    "# Filter Array"
   ]
  },
  {
   "cell_type": "code",
   "execution_count": 21,
   "id": "9f3e0d2f",
   "metadata": {},
   "outputs": [
    {
     "name": "stdout",
     "output_type": "stream",
     "text": [
      "[[40 11 39  2]\n",
      " [35 33 39 29]\n",
      " [19 42 14 44]]\n"
     ]
    },
    {
     "data": {
      "text/plain": [
       "array([[ True, False,  True, False],\n",
       "       [ True,  True,  True,  True],\n",
       "       [False,  True, False,  True]])"
      ]
     },
     "execution_count": 21,
     "metadata": {},
     "output_type": "execute_result"
    }
   ],
   "source": [
    "# Provide a booliean array where values are above 20\n",
    "print(mat6)\n",
    "mat6 > 20"
   ]
  },
  {
   "cell_type": "code",
   "execution_count": 22,
   "id": "8847e8b4",
   "metadata": {},
   "outputs": [
    {
     "data": {
      "text/plain": [
       "array([40, 39, 35, 33, 39, 29, 42, 44])"
      ]
     },
     "execution_count": 22,
     "metadata": {},
     "output_type": "execute_result"
    }
   ],
   "source": [
    "# Return an array with just values over 20\n",
    "mat6[mat6 > 20]"
   ]
  },
  {
   "cell_type": "markdown",
   "id": "c7e7671f",
   "metadata": {},
   "source": [
    "# Statistics Operations"
   ]
  },
  {
   "cell_type": "code",
   "execution_count": 23,
   "id": "f142fa2b",
   "metadata": {},
   "outputs": [
    {
     "name": "stdout",
     "output_type": "stream",
     "text": [
      "Mean:  48.52\n",
      "Standard Deviation:  30.494091230925378\n",
      "Variance:  929.8896\n",
      "Min:  3\n",
      "Max:  97\n"
     ]
    }
   ],
   "source": [
    "mat5 = np.random.randint(0,100,50)\n",
    "mat5\n",
    "print(\"Mean: \", mat5.mean())\n",
    "print(\"Standard Deviation: \", mat5.std())\n",
    "print(\"Variance: \", mat5.var())\n",
    "print(\"Min: \", mat5.min())\n",
    "print(\"Max: \", mat5.max())"
   ]
  },
  {
   "cell_type": "markdown",
   "id": "76770190",
   "metadata": {},
   "source": [
    "# The Seed Function"
   ]
  },
  {
   "cell_type": "code",
   "execution_count": 24,
   "id": "faadea6b",
   "metadata": {},
   "outputs": [
    {
     "data": {
      "text/plain": [
       "array([26,  1, 17, 14, 31,  8,  7, 13, 45, 17])"
      ]
     },
     "execution_count": 24,
     "metadata": {},
     "output_type": "execute_result"
    }
   ],
   "source": [
    "# Ensure that the random values are generated every run\n",
    "np.random.seed(500)\n",
    "mat9 = np.random.randint(0,50,10)\n",
    "mat9"
   ]
  },
  {
   "cell_type": "code",
   "execution_count": 25,
   "id": "b120158c",
   "metadata": {},
   "outputs": [
    {
     "data": {
      "text/plain": [
       "array([26,  1, 17, 14, 31,  8,  7, 13, 45, 17])"
      ]
     },
     "execution_count": 25,
     "metadata": {},
     "output_type": "execute_result"
    }
   ],
   "source": [
    "mat9"
   ]
  },
  {
   "cell_type": "code",
   "execution_count": 26,
   "id": "1ba9bd21",
   "metadata": {},
   "outputs": [
    {
     "data": {
      "text/plain": [
       "array([17, 21, 41, 34, 42, 18, 19, 13, 38, 40])"
      ]
     },
     "execution_count": 26,
     "metadata": {},
     "output_type": "execute_result"
    }
   ],
   "source": [
    "mat10 = np.random.randint(0,50,10)\n",
    "mat10"
   ]
  },
  {
   "cell_type": "code",
   "execution_count": 27,
   "id": "31769a3d",
   "metadata": {},
   "outputs": [
    {
     "data": {
      "text/plain": [
       "array([17, 21, 41, 34, 42, 18, 19, 13, 38, 40])"
      ]
     },
     "execution_count": 27,
     "metadata": {},
     "output_type": "execute_result"
    }
   ],
   "source": [
    "mat10"
   ]
  },
  {
   "cell_type": "markdown",
   "id": "c58bc593",
   "metadata": {},
   "source": [
    "# Pandas"
   ]
  },
  {
   "cell_type": "markdown",
   "id": "55764d3c",
   "metadata": {},
   "source": [
    "# Read Data from a CSV"
   ]
  },
  {
   "cell_type": "code",
   "execution_count": 28,
   "id": "98a9b316",
   "metadata": {},
   "outputs": [],
   "source": [
    "file_path = r\"C:\\Users\\jimrb\\OneDrive\\Documents\\MyProjects\\mypython github\\Datasets\\Orders.csv\"\n",
    "def get_df_from_csv(file_path):\n",
    "    try: #The code inside the try block is executed, and any exceptions that occur are caught and handled in the except block.\n",
    "        df = pd.read_csv(file_path, index_col = 'Row ID')\n",
    "    except FileNotFoundError:\n",
    "        pass #In the except block, there is only a pass statement. This means that if a FileNotFoundError occurs, the code will essentially do nothing (i.e., it won't raise an error or perform any specific action).\n",
    "    else:\n",
    "        return df"
   ]
  },
  {
   "cell_type": "code",
   "execution_count": 30,
   "id": "4a3237bd",
   "metadata": {},
   "outputs": [
    {
     "name": "stdout",
     "output_type": "stream",
     "text": [
      "              Order ID  Order Date   Ship Date       Ship Mode Customer ID  \\\n",
      "Row ID                                                                       \n",
      "1       CA-2016-152156   8/11/2016  11/11/2016    Second Class    CG-12520   \n",
      "2       CA-2016-152156   8/11/2016  11/11/2016    Second Class    CG-12520   \n",
      "3       CA-2016-138688  12/06/2016  16/06/2016    Second Class    DV-13045   \n",
      "4       US-2015-108966  11/10/2015  18/10/2015  Standard Class    SO-20335   \n",
      "5       US-2015-108966  11/10/2015  18/10/2015  Standard Class    SO-20335   \n",
      "6       CA-2014-115812   9/06/2014  14/06/2014  Standard Class    BH-11710   \n",
      "7       CA-2014-115812   9/06/2014  14/06/2014  Standard Class    BH-11710   \n",
      "8       CA-2014-115812   9/06/2014  14/06/2014  Standard Class    BH-11710   \n",
      "9       CA-2014-115812   9/06/2014  14/06/2014  Standard Class    BH-11710   \n",
      "10      CA-2014-115812   9/06/2014  14/06/2014  Standard Class    BH-11710   \n",
      "\n",
      "          Customer Name    Segment        Country             City  \\\n",
      "Row ID                                                               \n",
      "1           Claire Gute   Consumer  United States        Henderson   \n",
      "2           Claire Gute   Consumer  United States        Henderson   \n",
      "3       Darrin Van Huff  Corporate  United States      Los Angeles   \n",
      "4        Sean O'Donnell   Consumer  United States  Fort Lauderdale   \n",
      "5        Sean O'Donnell   Consumer  United States  Fort Lauderdale   \n",
      "6       Brosina Hoffman   Consumer  United States      Los Angeles   \n",
      "7       Brosina Hoffman   Consumer  United States      Los Angeles   \n",
      "8       Brosina Hoffman   Consumer  United States      Los Angeles   \n",
      "9       Brosina Hoffman   Consumer  United States      Los Angeles   \n",
      "10      Brosina Hoffman   Consumer  United States      Los Angeles   \n",
      "\n",
      "             State  Postal Code Region       Product ID         Category  \\\n",
      "Row ID                                                                     \n",
      "1         Kentucky        42420  South  FUR-BO-10001798        Furniture   \n",
      "2         Kentucky        42420  South  FUR-CH-10000454        Furniture   \n",
      "3       California        90036   West  OFF-LA-10000240  Office Supplies   \n",
      "4          Florida        33311  South  FUR-TA-10000577        Furniture   \n",
      "5          Florida        33311  South  OFF-ST-10000760  Office Supplies   \n",
      "6       California        90032   West  FUR-FU-10001487        Furniture   \n",
      "7       California        90032   West  OFF-AR-10002833  Office Supplies   \n",
      "8       California        90032   West  TEC-PH-10002275       Technology   \n",
      "9       California        90032   West  OFF-BI-10003910  Office Supplies   \n",
      "10      California        90032   West  OFF-AP-10002892  Office Supplies   \n",
      "\n",
      "       Sub-Category                                       Product Name  \\\n",
      "Row ID                                                                   \n",
      "1         Bookcases                  Bush Somerset Collection Bookcase   \n",
      "2            Chairs  Hon Deluxe Fabric Upholstered Stacking Chairs,...   \n",
      "3            Labels  Self-Adhesive Address Labels for Typewriters b...   \n",
      "4            Tables      Bretford CR4500 Series Slim Rectangular Table   \n",
      "5           Storage                     Eldon Fold 'N Roll Cart System   \n",
      "6       Furnishings  Eldon Expressions Wood and Plastic Desk Access...   \n",
      "7               Art                                         Newell 322   \n",
      "8            Phones                     Mitel 5320 IP Phone VoIP phone   \n",
      "9           Binders  DXL Angle-View Binders with Locking Rings by S...   \n",
      "10       Appliances                   Belkin F5C206VTEL 6 Outlet Surge   \n",
      "\n",
      "           Sales  Quantity  Discount    Profit  \n",
      "Row ID                                          \n",
      "1       261.9600         2      0.00   41.9136  \n",
      "2       731.9400         3      0.00  219.5820  \n",
      "3        14.6200         2      0.00    6.8714  \n",
      "4       957.5775         5      0.45 -383.0310  \n",
      "5        22.3680         2      0.20    2.5164  \n",
      "6        48.8600         7      0.00   14.1694  \n",
      "7         7.2800         4      0.00    1.9656  \n",
      "8       907.1520         6      0.20   90.7152  \n",
      "9        18.5040         3      0.20    5.7825  \n",
      "10      114.9000         5      0.00   34.4700  \n"
     ]
    }
   ],
   "source": [
    "df = pd.read_csv(file_path, index_col = 'Row ID')\n",
    "\n",
    "if df is not None:\n",
    "    print(df.head(10))\n",
    "else:\n",
    "    print(\"File not found.\")"
   ]
  },
  {
   "cell_type": "markdown",
   "id": "2f9fa15d",
   "metadata": {},
   "source": [
    "# Read Data from an Excel"
   ]
  },
  {
   "cell_type": "code",
   "execution_count": 33,
   "id": "abd8773d",
   "metadata": {
    "scrolled": true
   },
   "outputs": [],
   "source": [
    "file_path_1 = r\"C:\\Users\\jimrb\\OneDrive\\Documents\\MyProjects\\mypython github\\Datasets\\Superstore.xls\"\n",
    "sheet_name = \"Returns\"\n",
    "\n",
    "def get_df_from_excel(file_name_1, sheet_name):\n",
    "    try:\n",
    "        df_1 = pd.read_excel(file_path_1, sheet_name)\n",
    "    except FileNotFoundError:\n",
    "        pass\n",
    "    else:\n",
    "        return df_1"
   ]
  },
  {
   "cell_type": "code",
   "execution_count": 32,
   "id": "480c42f9",
   "metadata": {},
   "outputs": [
    {
     "name": "stdout",
     "output_type": "stream",
     "text": [
      "   Row ID        Order ID Order Date  Ship Date       Ship Mode Customer ID  \\\n",
      "0       1  CA-2016-152156 2016-11-08 2016-11-11    Second Class    CG-12520   \n",
      "1       2  CA-2016-152156 2016-11-08 2016-11-11    Second Class    CG-12520   \n",
      "2       3  CA-2016-138688 2016-06-12 2016-06-16    Second Class    DV-13045   \n",
      "3       4  US-2015-108966 2015-10-11 2015-10-18  Standard Class    SO-20335   \n",
      "4       5  US-2015-108966 2015-10-11 2015-10-18  Standard Class    SO-20335   \n",
      "5       6  CA-2014-115812 2014-06-09 2014-06-14  Standard Class    BH-11710   \n",
      "6       7  CA-2014-115812 2014-06-09 2014-06-14  Standard Class    BH-11710   \n",
      "7       8  CA-2014-115812 2014-06-09 2014-06-14  Standard Class    BH-11710   \n",
      "8       9  CA-2014-115812 2014-06-09 2014-06-14  Standard Class    BH-11710   \n",
      "9      10  CA-2014-115812 2014-06-09 2014-06-14  Standard Class    BH-11710   \n",
      "\n",
      "     Customer Name    Segment        Country             City  ...  \\\n",
      "0      Claire Gute   Consumer  United States        Henderson  ...   \n",
      "1      Claire Gute   Consumer  United States        Henderson  ...   \n",
      "2  Darrin Van Huff  Corporate  United States      Los Angeles  ...   \n",
      "3   Sean O'Donnell   Consumer  United States  Fort Lauderdale  ...   \n",
      "4   Sean O'Donnell   Consumer  United States  Fort Lauderdale  ...   \n",
      "5  Brosina Hoffman   Consumer  United States      Los Angeles  ...   \n",
      "6  Brosina Hoffman   Consumer  United States      Los Angeles  ...   \n",
      "7  Brosina Hoffman   Consumer  United States      Los Angeles  ...   \n",
      "8  Brosina Hoffman   Consumer  United States      Los Angeles  ...   \n",
      "9  Brosina Hoffman   Consumer  United States      Los Angeles  ...   \n",
      "\n",
      "  Postal Code  Region       Product ID         Category Sub-Category  \\\n",
      "0       42420   South  FUR-BO-10001798        Furniture    Bookcases   \n",
      "1       42420   South  FUR-CH-10000454        Furniture       Chairs   \n",
      "2       90036    West  OFF-LA-10000240  Office Supplies       Labels   \n",
      "3       33311   South  FUR-TA-10000577        Furniture       Tables   \n",
      "4       33311   South  OFF-ST-10000760  Office Supplies      Storage   \n",
      "5       90032    West  FUR-FU-10001487        Furniture  Furnishings   \n",
      "6       90032    West  OFF-AR-10002833  Office Supplies          Art   \n",
      "7       90032    West  TEC-PH-10002275       Technology       Phones   \n",
      "8       90032    West  OFF-BI-10003910  Office Supplies      Binders   \n",
      "9       90032    West  OFF-AP-10002892  Office Supplies   Appliances   \n",
      "\n",
      "                                        Product Name     Sales  Quantity  \\\n",
      "0                  Bush Somerset Collection Bookcase  261.9600         2   \n",
      "1  Hon Deluxe Fabric Upholstered Stacking Chairs,...  731.9400         3   \n",
      "2  Self-Adhesive Address Labels for Typewriters b...   14.6200         2   \n",
      "3      Bretford CR4500 Series Slim Rectangular Table  957.5775         5   \n",
      "4                     Eldon Fold 'N Roll Cart System   22.3680         2   \n",
      "5  Eldon Expressions Wood and Plastic Desk Access...   48.8600         7   \n",
      "6                                         Newell 322    7.2800         4   \n",
      "7                     Mitel 5320 IP Phone VoIP phone  907.1520         6   \n",
      "8  DXL Angle-View Binders with Locking Rings by S...   18.5040         3   \n",
      "9                   Belkin F5C206VTEL 6 Outlet Surge  114.9000         5   \n",
      "\n",
      "   Discount    Profit  \n",
      "0      0.00   41.9136  \n",
      "1      0.00  219.5820  \n",
      "2      0.00    6.8714  \n",
      "3      0.45 -383.0310  \n",
      "4      0.20    2.5164  \n",
      "5      0.00   14.1694  \n",
      "6      0.00    1.9656  \n",
      "7      0.20   90.7152  \n",
      "8      0.20    5.7825  \n",
      "9      0.00   34.4700  \n",
      "\n",
      "[10 rows x 21 columns]\n"
     ]
    }
   ],
   "source": [
    "df_1 = pd.read_excel(file_path_1)\n",
    "\n",
    "if df_1 is not None:\n",
    "    print(df_1.head(10))\n",
    "else:\n",
    "    print(\"File not found.\")"
   ]
  },
  {
   "cell_type": "markdown",
   "id": "9e2b20f3",
   "metadata": {},
   "source": [
    "# Read Data from HTML"
   ]
  },
  {
   "cell_type": "code",
   "execution_count": 34,
   "id": "b0639b4e",
   "metadata": {},
   "outputs": [
    {
     "data": {
      "text/html": [
       "<div>\n",
       "<style scoped>\n",
       "    .dataframe tbody tr th:only-of-type {\n",
       "        vertical-align: middle;\n",
       "    }\n",
       "\n",
       "    .dataframe tbody tr th {\n",
       "        vertical-align: top;\n",
       "    }\n",
       "\n",
       "    .dataframe thead th {\n",
       "        text-align: right;\n",
       "    }\n",
       "</style>\n",
       "<table border=\"1\" class=\"dataframe\">\n",
       "  <thead>\n",
       "    <tr style=\"text-align: right;\">\n",
       "      <th></th>\n",
       "      <th>Country / Dependency</th>\n",
       "      <th>Population</th>\n",
       "      <th>% of world</th>\n",
       "      <th>Date</th>\n",
       "      <th>Source (official or from the United Nations)</th>\n",
       "    </tr>\n",
       "  </thead>\n",
       "  <tbody>\n",
       "    <tr>\n",
       "      <th>0</th>\n",
       "      <td>World</td>\n",
       "      <td>8063128000</td>\n",
       "      <td>100%</td>\n",
       "      <td>1 Oct 2023</td>\n",
       "      <td>UN projection[3]</td>\n",
       "    </tr>\n",
       "    <tr>\n",
       "      <th>1</th>\n",
       "      <td>China</td>\n",
       "      <td>1411750000</td>\n",
       "      <td>NaN</td>\n",
       "      <td>31 Dec 2022</td>\n",
       "      <td>Official estimate[4]</td>\n",
       "    </tr>\n",
       "    <tr>\n",
       "      <th>2</th>\n",
       "      <td>India</td>\n",
       "      <td>1392329000</td>\n",
       "      <td>NaN</td>\n",
       "      <td>1 Mar 2023</td>\n",
       "      <td>Official projection[5]</td>\n",
       "    </tr>\n",
       "    <tr>\n",
       "      <th>3</th>\n",
       "      <td>United States</td>\n",
       "      <td>335447000</td>\n",
       "      <td>NaN</td>\n",
       "      <td>1 Oct 2023</td>\n",
       "      <td>National population clock[7]</td>\n",
       "    </tr>\n",
       "    <tr>\n",
       "      <th>4</th>\n",
       "      <td>Indonesia</td>\n",
       "      <td>278696200</td>\n",
       "      <td>NaN</td>\n",
       "      <td>1 Jul 2023</td>\n",
       "      <td>National annual projection[8]</td>\n",
       "    </tr>\n",
       "    <tr>\n",
       "      <th>...</th>\n",
       "      <td>...</td>\n",
       "      <td>...</td>\n",
       "      <td>...</td>\n",
       "      <td>...</td>\n",
       "      <td>...</td>\n",
       "    </tr>\n",
       "    <tr>\n",
       "      <th>237</th>\n",
       "      <td>Tokelau (NZ)</td>\n",
       "      <td>1647</td>\n",
       "      <td>NaN</td>\n",
       "      <td>1 Jan 2019</td>\n",
       "      <td>2019 Census [230]</td>\n",
       "    </tr>\n",
       "    <tr>\n",
       "      <th>238</th>\n",
       "      <td>Niue</td>\n",
       "      <td>1549</td>\n",
       "      <td>NaN</td>\n",
       "      <td>1 Jul 2021</td>\n",
       "      <td>National annual projection[182]</td>\n",
       "    </tr>\n",
       "    <tr>\n",
       "      <th>239</th>\n",
       "      <td>Vatican City</td>\n",
       "      <td>764</td>\n",
       "      <td>NaN</td>\n",
       "      <td>26 Jun 2023</td>\n",
       "      <td>Official figure[231]</td>\n",
       "    </tr>\n",
       "    <tr>\n",
       "      <th>240</th>\n",
       "      <td>Cocos (Keeling) Islands (Australia)</td>\n",
       "      <td>593</td>\n",
       "      <td>NaN</td>\n",
       "      <td>30 Jun 2020</td>\n",
       "      <td>2021 Census[232]</td>\n",
       "    </tr>\n",
       "    <tr>\n",
       "      <th>241</th>\n",
       "      <td>Pitcairn Islands (UK)</td>\n",
       "      <td>47</td>\n",
       "      <td>NaN</td>\n",
       "      <td>1 Jul 2021</td>\n",
       "      <td>Official estimate[233]</td>\n",
       "    </tr>\n",
       "  </tbody>\n",
       "</table>\n",
       "<p>242 rows × 5 columns</p>\n",
       "</div>"
      ],
      "text/plain": [
       "                    Country / Dependency  Population % of world         Date  \\\n",
       "0                                  World  8063128000       100%   1 Oct 2023   \n",
       "1                                  China  1411750000        NaN  31 Dec 2022   \n",
       "2                                  India  1392329000        NaN   1 Mar 2023   \n",
       "3                          United States   335447000        NaN   1 Oct 2023   \n",
       "4                              Indonesia   278696200        NaN   1 Jul 2023   \n",
       "..                                   ...         ...        ...          ...   \n",
       "237                         Tokelau (NZ)        1647        NaN   1 Jan 2019   \n",
       "238                                 Niue        1549        NaN   1 Jul 2021   \n",
       "239                         Vatican City         764        NaN  26 Jun 2023   \n",
       "240  Cocos (Keeling) Islands (Australia)         593        NaN  30 Jun 2020   \n",
       "241                Pitcairn Islands (UK)          47        NaN   1 Jul 2021   \n",
       "\n",
       "    Source (official or from the United Nations)  \n",
       "0                               UN projection[3]  \n",
       "1                           Official estimate[4]  \n",
       "2                         Official projection[5]  \n",
       "3                   National population clock[7]  \n",
       "4                  National annual projection[8]  \n",
       "..                                           ...  \n",
       "237                            2019 Census [230]  \n",
       "238              National annual projection[182]  \n",
       "239                         Official figure[231]  \n",
       "240                             2021 Census[232]  \n",
       "241                       Official estimate[233]  \n",
       "\n",
       "[242 rows x 5 columns]"
      ]
     },
     "execution_count": 34,
     "metadata": {},
     "output_type": "execute_result"
    }
   ],
   "source": [
    "URL = \"https://en.wikipedia.org/wiki/List_of_countries_and_dependencies_by_population\"\n",
    "# Exclude columns with the index 0 and 6\n",
    "exclude_column = [0,6]\n",
    "# Extract table with the index 0\n",
    "html_data = pd.read_html(URL)[0]\n",
    "\n",
    "# Use the drop method with columns argument to exclude the column by index\n",
    "html_data = html_data.drop(columns=html_data.columns[exclude_column])\n",
    "\n",
    "# Now, the specified column by index is removed from 'html_data'\n",
    "html_data"
   ]
  },
  {
   "cell_type": "code",
   "execution_count": null,
   "id": "b4bfefa3",
   "metadata": {},
   "outputs": [],
   "source": []
  }
 ],
 "metadata": {
  "kernelspec": {
   "display_name": "Python 3 (ipykernel)",
   "language": "python",
   "name": "python3"
  },
  "language_info": {
   "codemirror_mode": {
    "name": "ipython",
    "version": 3
   },
   "file_extension": ".py",
   "mimetype": "text/x-python",
   "name": "python",
   "nbconvert_exporter": "python",
   "pygments_lexer": "ipython3",
   "version": "3.11.3"
  }
 },
 "nbformat": 4,
 "nbformat_minor": 5
}
